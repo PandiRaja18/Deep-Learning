{
  "nbformat": 4,
  "nbformat_minor": 0,
  "metadata": {
    "colab": {
      "name": "DeepLearning_Bootcamp_CIFAR10.ipynb",
      "provenance": [],
      "authorship_tag": "ABX9TyMSY9jzN9/kwSfAK5BapMR4",
      "include_colab_link": true
    },
    "kernelspec": {
      "name": "python3",
      "display_name": "Python 3"
    },
    "language_info": {
      "name": "python"
    }
  },
  "cells": [
    {
      "cell_type": "markdown",
      "metadata": {
        "id": "view-in-github",
        "colab_type": "text"
      },
      "source": [
        "<a href=\"https://colab.research.google.com/github/PandiRaja18/Machine-Learning/blob/ML/DeepLearning_Bootcamp_CIFAR10.ipynb\" target=\"_parent\"><img src=\"https://colab.research.google.com/assets/colab-badge.svg\" alt=\"Open In Colab\"/></a>"
      ]
    },
    {
      "cell_type": "code",
      "execution_count": 56,
      "metadata": {
        "id": "KCWI5Q-QjMc9"
      },
      "outputs": [],
      "source": [
        "import tensorflow as tf\n",
        "import matplotlib.pyplot as py\n",
        "import numpy as np\n",
        "#import seaborn as sea\n",
        "from tensorflow.keras.layers import Conv2D,Dense,MaxPooling2D,Flatten\n",
        "from tensorflow.keras.layers import BatchNormalization,Dropout\n",
        "from tensorflow.keras.models import Model"
      ]
    },
    {
      "cell_type": "code",
      "source": [
        "dataFrame=tf.keras.datasets.cifar10.load_data()"
      ],
      "metadata": {
        "colab": {
          "base_uri": "https://localhost:8080/"
        },
        "id": "W65oFAndmOZU",
        "outputId": "096f836f-b6ca-4f7a-fa96-647d2e1dd112"
      },
      "execution_count": 3,
      "outputs": [
        {
          "output_type": "stream",
          "name": "stdout",
          "text": [
            "Downloading data from https://www.cs.toronto.edu/~kriz/cifar-10-python.tar.gz\n",
            "170500096/170498071 [==============================] - 2s 0us/step\n",
            "170508288/170498071 [==============================] - 2s 0us/step\n"
          ]
        }
      ]
    },
    {
      "cell_type": "markdown",
      "source": [
        "**Split datas into Tain and Test**"
      ],
      "metadata": {
        "id": "TM3xzU5ZnGEF"
      }
    },
    {
      "cell_type": "code",
      "source": [
        "(X_train,y_train),(X_test,y_test)=dataFrame\n",
        "x_train,X_test=X_train/255.0,X_test/255.0\n",
        "y_train,y_test=y_train.flatten(),y_test.flatten()\n",
        "size=tf.keras.Input(shape=X_train[0].shape)"
      ],
      "metadata": {
        "id": "YDuM4p1BmPHr"
      },
      "execution_count": 60,
      "outputs": []
    },
    {
      "cell_type": "code",
      "source": [
        "x = Conv2D(32, (3, 3), activation='relu', padding='same')(size)\n",
        "x = BatchNormalization()(x)\n",
        "x = Conv2D(32, (3, 3), activation='relu', padding='same')(x)\n",
        "x = BatchNormalization()(x)\n",
        "x = MaxPooling2D((2, 2))(x)\n",
        " \n",
        "x = Conv2D(64, (3, 3), activation='relu', padding='same')(x)\n",
        "x = BatchNormalization()(x)\n",
        "x = Conv2D(64, (3, 3), activation='relu', padding='same')(x)\n",
        "x = BatchNormalization()(x)\n",
        "x = MaxPooling2D((2, 2))(x)\n",
        " \n",
        "x = Conv2D(128, (3, 3), activation='relu', padding='same')(x)\n",
        "x = BatchNormalization()(x)\n",
        "x = Conv2D(128, (3, 3), activation='relu', padding='same')(x)\n",
        "x = BatchNormalization()(x)\n",
        "x = MaxPooling2D((2, 2))(x)\n",
        " \n",
        "x = Flatten()(x)\n",
        "x = Dropout(0.2)(x)\n",
        "\n",
        "x = Dense(1024, activation='relu')(x)\n",
        "x = Dropout(0.2)(x)\n",
        "k=len(set(y_train))\n",
        "# output layer\n",
        "x = Dense(k, activation='softmax')(x)\n",
        " \n",
        "model = Model(size, x)\n",
        "\n",
        "model.summary"
      ],
      "metadata": {
        "colab": {
          "base_uri": "https://localhost:8080/"
        },
        "id": "E-BSdLCMmO6F",
        "outputId": "ca97e916-f8b0-491d-d827-02d19280a85d"
      },
      "execution_count": 61,
      "outputs": [
        {
          "output_type": "execute_result",
          "data": {
            "text/plain": [
              "<bound method Model.summary of <keras.engine.functional.Functional object at 0x7f1a518f2610>>"
            ]
          },
          "metadata": {},
          "execution_count": 61
        }
      ]
    },
    {
      "cell_type": "code",
      "source": [
        "model.compile(\n",
        "    optimizer='adam',\n",
        "    loss='sparse_categorical_crossentropy',\n",
        "    metrics=['accuracy']\n",
        ")\n",
        "model.fit(X_train,y_train,validation_data=(X_test,y_test),epochs=50)"
      ],
      "metadata": {
        "colab": {
          "base_uri": "https://localhost:8080/"
        },
        "id": "gTc41_RsnFVL",
        "outputId": "3bc6cb0c-d83e-43e6-b47f-d6f99608826d"
      },
      "execution_count": null,
      "outputs": [
        {
          "output_type": "stream",
          "name": "stdout",
          "text": [
            "Epoch 1/50\n",
            "1563/1563 [==============================] - 527s 336ms/step - loss: 1.3473 - accuracy: 0.5375 - val_loss: 5.6343 - val_accuracy: 0.1003\n",
            "Epoch 2/50\n",
            "1563/1563 [==============================] - 514s 329ms/step - loss: 0.8638 - accuracy: 0.7006 - val_loss: 6.8741 - val_accuracy: 0.1000\n",
            "Epoch 3/50\n",
            "1563/1563 [==============================] - 517s 331ms/step - loss: 0.7062 - accuracy: 0.7567 - val_loss: 3.5546 - val_accuracy: 0.1000\n",
            "Epoch 4/50\n",
            " 913/1563 [================>.............] - ETA: 3:25 - loss: 0.5861 - accuracy: 0.7983"
          ]
        }
      ]
    },
    {
      "cell_type": "code",
      "source": [
        ""
      ],
      "metadata": {
        "id": "rE_o4HbVnFAd"
      },
      "execution_count": null,
      "outputs": []
    }
  ]
}