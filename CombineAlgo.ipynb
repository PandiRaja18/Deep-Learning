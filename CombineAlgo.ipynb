{
  "nbformat": 4,
  "nbformat_minor": 0,
  "metadata": {
    "colab": {
      "name": "CombineAlgo.ipynb",
      "provenance": [],
      "include_colab_link": true
    },
    "kernelspec": {
      "name": "python3",
      "display_name": "Python 3"
    }
  },
  "cells": [
    {
      "cell_type": "markdown",
      "metadata": {
        "id": "view-in-github",
        "colab_type": "text"
      },
      "source": [
        "<a href=\"https://colab.research.google.com/github/PandiRaja18/Machine-Learning/blob/ML/CombineAlgo.ipynb\" target=\"_parent\"><img src=\"https://colab.research.google.com/assets/colab-badge.svg\" alt=\"Open In Colab\"/></a>"
      ]
    },
    {
      "cell_type": "markdown",
      "metadata": {
        "id": "lZWfGQP9g0DR"
      },
      "source": [
        "# **IRIS - Flower Species Dataset**"
      ]
    },
    {
      "cell_type": "markdown",
      "metadata": {
        "id": "03u4qXo6g5G-"
      },
      "source": [
        "IdSPL-SPW-PTL-PTW(CM)\n",
        "\n",
        "SepalLengthCmLength of the sepal (in cm)\n",
        "\n",
        "SepalWidthCmWidth of the sepal (in cm)\n",
        "\n",
        "PetalLengthCmLength of the petal (in cm)\n",
        "\n",
        "PetalWidthCmWidth of the petal (in cm)\n",
        "\n",
        "SpeciesSpecies name"
      ]
    },
    {
      "cell_type": "code",
      "metadata": {
        "id": "W1TPbmKtgtgG",
        "colab": {
          "base_uri": "https://localhost:8080/"
        },
        "outputId": "e8771f6f-80ee-44eb-ab39-85b33fc77efe"
      },
      "source": [
        "!git clone https://github.com/deepanrajm/machine_learning.git"
      ],
      "execution_count": null,
      "outputs": [
        {
          "output_type": "stream",
          "text": [
            "Cloning into 'machine_learning'...\n",
            "remote: Enumerating objects: 70064, done.\u001b[K\n",
            "remote: Counting objects: 100% (70064/70064), done.\u001b[K\n",
            "remote: Compressing objects: 100% (70053/70053), done.\u001b[K\n",
            "remote: Total 72556 (delta 14), reused 70052 (delta 8), pack-reused 2492\u001b[K\n",
            "Receiving objects: 100% (72556/72556), 121.67 MiB | 30.01 MiB/s, done.\n",
            "Resolving deltas: 100% (75/75), done.\n",
            "Checking out files: 100% (3002/3002), done.\n"
          ],
          "name": "stdout"
        }
      ]
    },
    {
      "cell_type": "code",
      "metadata": {
        "id": "iQgf_nP1-RnV"
      },
      "source": [
        "import numpy as np\n",
        "from pandas import read_csv\n",
        "import sklearn\n",
        "from sklearn.metrics import classification_report\n",
        "from sklearn.ensemble import RandomForestClassifier\n",
        "from sklearn.tree import DecisionTreeClassifier\n",
        "from sklearn.neighbors import KNeighborsClassifier\n",
        "from sklearn.svm import SVC\n",
        "from sklearn.linear_model import LogisticRegression\n",
        "\n",
        "if int((sklearn.__version__).split(\".\")[1]) < 18:\n",
        "\tfrom sklearn.cross_validation import train_test_split\n",
        "\n",
        "else:\n",
        "\tfrom sklearn.model_selection import train_test_split"
      ],
      "execution_count": null,
      "outputs": []
    },
    {
      "cell_type": "code",
      "metadata": {
        "id": "G4Uo9JKr-VLR"
      },
      "source": [
        "dataframe = read_csv(\"machine_learning/Machine_learning/2_IRIS/iris.csv\")\n",
        "dataset = dataframe.values\n",
        "data = dataset[:,0:4].astype(float) #0-3 columns are inputs\n",
        "labels = dataset[:,4]"
      ],
      "execution_count": null,
      "outputs": []
    },
    {
      "cell_type": "code",
      "metadata": {
        "id": "u6Y1HNwfg8iT"
      },
      "source": [
        "(trainData, testData, trainLabels, testLabels) = train_test_split(np.array(data),\n",
        "\tnp.array(labels), test_size=0.25, random_state=42)"
      ],
      "execution_count": null,
      "outputs": []
    },
    {
      "cell_type": "markdown",
      "metadata": {
        "id": "SWRyxcWV-lBl"
      },
      "source": [
        "**Decision Trees**"
      ]
    },
    {
      "cell_type": "code",
      "metadata": {
        "id": "oSWAnpL8-o-4",
        "colab": {
          "base_uri": "https://localhost:8080/"
        },
        "outputId": "89426987-30d4-4eb1-9888-afb5133c1cdc"
      },
      "source": [
        "#splitter = best, random , max_features = int, auto, log, none\n",
        "model = DecisionTreeClassifier(random_state=84)\n",
        "\n",
        "print(\"[INFO] training model...\")\n",
        "model.fit(trainData, trainLabels)\n",
        "\n",
        "\n",
        "print(\"[INFO] evaluating...\")\n",
        "predictions = model.predict(testData)\n",
        "print(classification_report(testLabels, predictions))"
      ],
      "execution_count": null,
      "outputs": [
        {
          "output_type": "stream",
          "text": [
            "[INFO] training model...\n",
            "[INFO] evaluating...\n",
            "                 precision    recall  f1-score   support\n",
            "\n",
            "    Iris-setosa       1.00      1.00      1.00        15\n",
            "Iris-versicolor       1.00      1.00      1.00        11\n",
            " Iris-virginica       1.00      1.00      1.00        12\n",
            "\n",
            "       accuracy                           1.00        38\n",
            "      macro avg       1.00      1.00      1.00        38\n",
            "   weighted avg       1.00      1.00      1.00        38\n",
            "\n"
          ],
          "name": "stdout"
        }
      ]
    },
    {
      "cell_type": "markdown",
      "metadata": {
        "id": "kiXeJLzk-uJV"
      },
      "source": [
        "\n",
        "**Random Forest**"
      ]
    },
    {
      "cell_type": "code",
      "metadata": {
        "id": "ctdXYPR--12_"
      },
      "source": [
        "model = RandomForestClassifier(n_estimators=10, random_state=42,max_features=\"auto\")\n",
        "print(\"[INFO] training model...\")\n",
        "model.fit(trainData, trainLabels)\n",
        "\n",
        "\n",
        "print(\"[INFO] evaluating...\")\n",
        "predictions = model.predict(testData)\n",
        "print(classification_report(testLabels, predictions))"
      ],
      "execution_count": null,
      "outputs": []
    },
    {
      "cell_type": "markdown",
      "metadata": {
        "id": "nXPaoeig-46g"
      },
      "source": [
        "**KNN**"
      ]
    },
    {
      "cell_type": "code",
      "metadata": {
        "id": "F_DTQ_Dy--3U"
      },
      "source": [
        "#weights = uniform, weights\n",
        "model = KNeighborsClassifier(n_neighbors=9)\n",
        "print(\"[INFO] training model...\")\n",
        "model.fit(trainData, trainLabels)\n",
        "\n",
        "\n",
        "print(\"[INFO] evaluating...\")\n",
        "predictions = model.predict(testData)\n",
        "print(classification_report(testLabels, predictions))"
      ],
      "execution_count": null,
      "outputs": []
    },
    {
      "cell_type": "markdown",
      "metadata": {
        "id": "GEM_MBdi_Dpe"
      },
      "source": [
        "**SVM**"
      ]
    },
    {
      "cell_type": "code",
      "metadata": {
        "id": "sT9Kwg9s_Fnp"
      },
      "source": [
        "#kernel='rbf', linear, poly, C=1,gamma=0\n",
        "model = SVC(kernel=\"rbf\",C=100)\n",
        "print(\"[INFO] training model...\")\n",
        "model.fit(trainData, trainLabels)\n",
        "\n",
        "\n",
        "print(\"[INFO] evaluating...\")\n",
        "predictions = model.predict(testData)\n",
        "print(classification_report(testLabels, predictions))"
      ],
      "execution_count": null,
      "outputs": []
    },
    {
      "cell_type": "markdown",
      "metadata": {
        "id": "qR36v2Rr_Nok"
      },
      "source": [
        "**Logistic Regression**"
      ]
    },
    {
      "cell_type": "code",
      "metadata": {
        "id": "pQjR2AeT-ZDA"
      },
      "source": [
        "#penality = l1,l2, elasticnet\n",
        "#solver = liblinear, sag, saga, lbfgs, newton-cg\n",
        "#max-iter = 100\n",
        "\n",
        "model = LogisticRegression(max_iter=15)#,solver = 'sag')\n",
        "\n",
        "#penalty='l1',solver=\"saga\",max_iter=100\n",
        "\n",
        "print(\"[INFO] training model...\")\n",
        "model.fit(trainData, trainLabels)\n",
        "\n",
        "\n",
        "print(\"[INFO] evaluating...\")\n",
        "predictions = model.predict(testData)\n",
        "print(classification_report(testLabels, predictions))"
      ],
      "execution_count": null,
      "outputs": []
    }
  ]
}