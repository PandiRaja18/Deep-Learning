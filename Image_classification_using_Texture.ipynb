{
  "nbformat": 4,
  "nbformat_minor": 0,
  "metadata": {
    "colab": {
      "name": "Image_classification_using_Texture.ipynb",
      "provenance": [],
      "collapsed_sections": [],
      "include_colab_link": true
    },
    "kernelspec": {
      "name": "python3",
      "display_name": "Python 3"
    }
  },
  "cells": [
    {
      "cell_type": "markdown",
      "metadata": {
        "id": "view-in-github",
        "colab_type": "text"
      },
      "source": [
        "<a href=\"https://colab.research.google.com/github/PandiRaja18/Machine-Learning/blob/ML/Image_classification_using_Texture.ipynb\" target=\"_parent\"><img src=\"https://colab.research.google.com/assets/colab-badge.svg\" alt=\"Open In Colab\"/></a>"
      ]
    },
    {
      "cell_type": "markdown",
      "metadata": {
        "id": "4QQtFO7wBzXt"
      },
      "source": [
        "# **Image Classfication using Texture**"
      ]
    },
    {
      "cell_type": "code",
      "metadata": {
        "id": "-offc0_oB5Z9",
        "colab": {
          "base_uri": "https://localhost:8080/"
        },
        "outputId": "30c41471-0836-40e9-9bdd-3cd760c4d907"
      },
      "source": [
        "!git clone https://github.com/deepanrajm/machine_learning.git"
      ],
      "execution_count": null,
      "outputs": [
        {
          "output_type": "stream",
          "text": [
            "Cloning into 'machine_learning'...\n",
            "remote: Enumerating objects: 70064, done.\u001b[K\n",
            "remote: Counting objects: 100% (70064/70064), done.\u001b[K\n",
            "remote: Compressing objects: 100% (70053/70053), done.\u001b[K\n",
            "remote: Total 72556 (delta 14), reused 70052 (delta 8), pack-reused 2492\u001b[K\n",
            "Receiving objects: 100% (72556/72556), 121.67 MiB | 28.30 MiB/s, done.\n",
            "Resolving deltas: 100% (75/75), done.\n",
            "Checking out files: 100% (3002/3002), done.\n"
          ],
          "name": "stdout"
        }
      ]
    },
    {
      "cell_type": "code",
      "metadata": {
        "id": "ZX7idTXXCW-x",
        "colab": {
          "base_uri": "https://localhost:8080/",
          "height": 357
        },
        "outputId": "b905aecc-632b-4624-9117-f7cc8863262e"
      },
      "source": [
        "!pip install mahotas==1.4.9"
      ],
      "execution_count": 14,
      "outputs": [
        {
          "output_type": "stream",
          "text": [
            "Collecting mahotas==1.4.9\n",
            "\u001b[?25l  Downloading https://files.pythonhosted.org/packages/84/74/bd38163462eb346519f36dc205f0a52a01fb372c7bbcc87392c9b21cfe26/mahotas-1.4.9.tar.gz (1.5MB)\n",
            "\u001b[K     |████████████████████████████████| 1.5MB 5.7MB/s \n",
            "\u001b[?25hRequirement already satisfied: numpy in /usr/local/lib/python3.6/dist-packages (from mahotas==1.4.9) (1.19.4)\n",
            "Building wheels for collected packages: mahotas\n",
            "  Building wheel for mahotas (setup.py) ... \u001b[?25l\u001b[?25hdone\n",
            "  Created wheel for mahotas: filename=mahotas-1.4.9-cp36-cp36m-linux_x86_64.whl size=4265597 sha256=9bf130ebfc96c0ad2d9db0b0356e1b699ec168e676f299a29baa444e7cc4438b\n",
            "  Stored in directory: /root/.cache/pip/wheels/02/e7/50/b67eee3b19c479cc5b41f10230bf9c1556be6eaaf095c6e997\n",
            "Successfully built mahotas\n",
            "Installing collected packages: mahotas\n",
            "  Found existing installation: mahotas 1.4.11\n",
            "    Uninstalling mahotas-1.4.11:\n",
            "      Successfully uninstalled mahotas-1.4.11\n",
            "Successfully installed mahotas-1.4.9\n"
          ],
          "name": "stdout"
        },
        {
          "output_type": "display_data",
          "data": {
            "application/vnd.colab-display-data+json": {
              "pip_warning": {
                "packages": [
                  "mahotas"
                ]
              }
            }
          },
          "metadata": {
            "tags": []
          }
        }
      ]
    },
    {
      "cell_type": "code",
      "metadata": {
        "id": "SzFhXPhmBvOg"
      },
      "source": [
        "from sklearn.svm import LinearSVC #Support vector packages\n",
        "# import argparse  ->Argument package not needed\n",
        "import mahotas #It's a lobrary where you can use the feature extraction \n",
        "import glob #etting for getting a file inside the folder \n",
        "import cv2\n",
        "from sklearn.linear_model import LogisticRegression\n",
        "from google.colab.patches import cv2_imshow"
      ],
      "execution_count": 15,
      "outputs": []
    },
    {
      "cell_type": "code",
      "metadata": {
        "id": "HEATvcJSB7Z1"
      },
      "source": [
        "data = []\n",
        "labels = []"
      ],
      "execution_count": 16,
      "outputs": []
    },
    {
      "cell_type": "markdown",
      "metadata": {
        "id": "Cs1v1Sfzz6fE"
      },
      "source": [
        "**HARALICK TEXTURE**"
      ]
    },
    {
      "cell_type": "markdown",
      "metadata": {
        "id": "L2FxoD7_3zrY"
      },
      "source": [
        "Find how many **number of times the pattern** **Occurs** example : 1,2 occurs two times so put 2 in 2nd Row and 1st Column similarly 1,3 and 1,1 etc.."
      ]
    },
    {
      "cell_type": "markdown",
      "metadata": {
        "id": "wAUOtioO5Qc8"
      },
      "source": [
        "The Finall matrix or Image (at the Right side) is the **Feature vector** / **Textured Image** is knwn as GLCM(Gray Level **Co-Occurance Matrix**"
      ]
    },
    {
      "cell_type": "markdown",
      "metadata": {
        "id": "0wjDTEZzzxuc"
      },
      "source": [
        "![alt text](https://drive.google.com/uc?id=1wW6kZ9ESBY7hminUlHnlsNDLUol2Fqqk)"
      ]
    },
    {
      "cell_type": "code",
      "metadata": {
        "id": "Cw_oFa0JB_Xf"
      },
      "source": [
        "#Loop all the images in the trainig folder \"/* meantioned all the image is in the format .png\n",
        "for imagePath in glob.glob(\"machine_learning/Machine_learning/4_haralick_texture/training\" + \"/*.png\"):\n",
        "\t# load the image, convert it to grayscale, and extract the texture\n",
        "\t# name from the filename\n",
        "\timage = cv2.imread(imagePath)\n",
        "\timage = cv2.cvtColor(image, cv2.COLOR_BGR2GRAY)\n",
        "  #Convert to gray scale bez color image is 3 dimen but gray is 1 dimen\n",
        "\ttexture = imagePath[imagePath.rfind(\"/\") + 1:].split(\"_\")[0]\n",
        "  #Put the name in the variable texture and split the number\n",
        "  #For example :carpet_01 is the image name now it sore like [carpet,01] \n",
        "\n",
        "\t# extract Haralick texture features in 4 directions, then take the\n",
        "\t# mean of each direction\n",
        "\tfeatures = mahotas.features.haralick(image).mean(axis=0) #looking fro horizontal pattern and it is the default axis\n",
        "\n",
        "\t# update the data and labels\n",
        "\tdata.append(features)\n",
        "\tlabels.append(texture)"
      ],
      "execution_count": 17,
      "outputs": []
    },
    {
      "cell_type": "code",
      "metadata": {
        "id": "ECHhAv94Clx4"
      },
      "source": [
        "print(\"[INFO] training model...\")\n",
        "model = LogisticRegression()\n",
        "model.fit(data, labels)\n",
        "print(\"[INFO] classifying...\")"
      ],
      "execution_count": null,
      "outputs": []
    },
    {
      "cell_type": "code",
      "metadata": {
        "id": "mtvX7CbiCo1r"
      },
      "source": [
        "for imagePath in glob.glob(\"machine_learning/Machine_learning/4_haralick_texture/testing\"+ \"/*.png\"):\n",
        "\t# load the image, convert it to grayscale, and extract Haralick\n",
        "\t# texture from the test image\n",
        "\timage = cv2.imread(imagePath)\n",
        "\tgray = cv2.cvtColor(image, cv2.COLOR_BGR2GRAY)\n",
        "\tfeatures = mahotas.features.haralick(gray).mean(axis=0)\n",
        "\n",
        "\t# classify the test image\n",
        "\tpred = model.predict(features.reshape(1, -1))[0]\n",
        "\tcv2.putText(image, pred, (20, 30), cv2.FONT_HERSHEY_SIMPLEX, 1.0,\n",
        "\t\t(0, 255, 0), 3)#Write our prediction in our image itself\n",
        "\n",
        "\t# show the output image\n",
        "\tcv2_imshow(image)"
      ],
      "execution_count": 10,
      "outputs": []
    }
  ]
}