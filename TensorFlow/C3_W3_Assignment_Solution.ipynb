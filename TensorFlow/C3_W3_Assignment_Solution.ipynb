{
  "nbformat": 4,
  "nbformat_minor": 0,
  "metadata": {
    "accelerator": "GPU",
    "colab": {
      "name": "C3_W3_Assignment_Solution.ipynb",
      "provenance": [],
      "collapsed_sections": [],
      "toc_visible": true,
      "include_colab_link": true
    },
    "kernelspec": {
      "name": "python3",
      "display_name": "Python 3"
    },
    "language_info": {
      "name": "python"
    }
  },
  "cells": [
    {
      "cell_type": "markdown",
      "metadata": {
        "id": "view-in-github",
        "colab_type": "text"
      },
      "source": [
        "<a href=\"https://colab.research.google.com/github/PandiRaja18/Machine-Learning/blob/main/TensorFlow/C3_W3_Assignment_Solution.ipynb\" target=\"_parent\"><img src=\"https://colab.research.google.com/assets/colab-badge.svg\" alt=\"Open In Colab\"/></a>"
      ]
    },
    {
      "cell_type": "code",
      "metadata": {
        "id": "zX4Kg8DUTKWO"
      },
      "source": [
        "#@title Licensed under the Apache License, Version 2.0 (the \"License\");\n",
        "# you may not use this file except in compliance with the License.\n",
        "# You may obtain a copy of the License at\n",
        "#\n",
        "# https://www.apache.org/licenses/LICENSE-2.0\n",
        "#\n",
        "# Unless required by applicable law or agreed to in writing, software\n",
        "# distributed under the License is distributed on an \"AS IS\" BASIS,\n",
        "# WITHOUT WARRANTIES OR CONDITIONS OF ANY KIND, either express or implied.\n",
        "# See the License for the specific language governing permissions and\n",
        "# limitations under the License."
      ],
      "execution_count": null,
      "outputs": []
    },
    {
      "cell_type": "markdown",
      "metadata": {
        "id": "-v8aHcpUdtKN"
      },
      "source": [
        "**Note:** This notebook can run using TensorFlow 2.5.0"
      ]
    },
    {
      "cell_type": "code",
      "metadata": {
        "id": "FtL554lDdtKO"
      },
      "source": [
        "#!pip install tensorflow==2.5.0"
      ],
      "execution_count": null,
      "outputs": []
    },
    {
      "cell_type": "code",
      "metadata": {
        "id": "hmA6EzkQJ5jt"
      },
      "source": [
        "import json\n",
        "import tensorflow as tf\n",
        "import csv\n",
        "import random\n",
        "import numpy as np\n",
        "\n",
        "from tensorflow.keras.preprocessing.text import Tokenizer\n",
        "from tensorflow.keras.preprocessing.sequence import pad_sequences\n",
        "from tensorflow.keras.utils import to_categorical\n",
        "from tensorflow.keras import regularizers\n",
        "\n",
        "\n",
        "embedding_dim = 100\n",
        "max_length = 16\n",
        "trunc_type='post'\n",
        "padding_type='post'\n",
        "oov_tok = \"<OOV>\"\n",
        "training_size=160000\n",
        "test_portion=.1\n",
        "\n",
        "corpus = []\n"
      ],
      "execution_count": 1,
      "outputs": []
    },
    {
      "cell_type": "code",
      "metadata": {
        "id": "bM0l_dORKqE0",
        "colab": {
          "base_uri": "https://localhost:8080/"
        },
        "outputId": "27e455d5-4b0c-4070-bb2d-225a6f4e8bee"
      },
      "source": [
        "# Note that I cleaned the Stanford dataset to remove LATIN1 encoding to make it easier for Python CSV reader\n",
        "# You can do that yourself with:\n",
        "# iconv -f LATIN1 -t UTF8 training.1600000.processed.noemoticon.csv -o training_cleaned.csv\n",
        "\n",
        "# training_cleaned.csv\n",
        "!gdown --id 1wd8KaeCSHxt-nEpMeuHFSNWrDp8joUXJ\n",
        "\n",
        "num_sentences = 0\n",
        "\n",
        "with open(\"./training_cleaned.csv\") as csvfile:\n",
        "    reader = csv.reader(csvfile, delimiter=',')\n",
        "    for row in reader:\n",
        "        list_item=[]\n",
        "        \n",
        "        ### START CODE HERE\n",
        "        list_item.append(row[5])\n",
        "        this_label=row[0]\n",
        "        if this_label=='0':\n",
        "            list_item.append(0)\n",
        "        else:\n",
        "            list_item.append(1)\n",
        "        ### END CODE HERE\n",
        "        \n",
        "        num_sentences = num_sentences + 1\n",
        "        corpus.append(list_item)\n"
      ],
      "execution_count": 2,
      "outputs": [
        {
          "output_type": "stream",
          "name": "stdout",
          "text": [
            "Downloading...\n",
            "From: https://drive.google.com/uc?id=1wd8KaeCSHxt-nEpMeuHFSNWrDp8joUXJ\n",
            "To: /content/training_cleaned.csv\n",
            "239MB [00:02, 110MB/s]\n"
          ]
        }
      ]
    },
    {
      "cell_type": "code",
      "metadata": {
        "id": "3kxblBUjEUX-",
        "colab": {
          "base_uri": "https://localhost:8080/"
        },
        "outputId": "eb01a553-eb4a-4787-cec7-90e92fdba2ca"
      },
      "source": [
        "print(num_sentences)\n",
        "print(len(corpus))\n",
        "print(corpus[1])\n",
        "\n",
        "# Expected Output:\n",
        "# 1600000\n",
        "# 1600000\n",
        "# [\"is upset that he can't update his Facebook by texting it... and might cry as a result  School today also. Blah!\", 0]"
      ],
      "execution_count": 3,
      "outputs": [
        {
          "output_type": "stream",
          "name": "stdout",
          "text": [
            "1600000\n",
            "1600000\n",
            "[\"is upset that he can't update his Facebook by texting it... and might cry as a result  School today also. Blah!\", 0]\n"
          ]
        }
      ]
    },
    {
      "cell_type": "code",
      "metadata": {
        "id": "ohOGz24lsNAD"
      },
      "source": [
        "sentences=[]\n",
        "labels=[]\n",
        "random.shuffle(corpus)\n",
        "for x in range(training_size):\n",
        "    sentences.append(corpus[x][0])# YOUR CODE HERE)\n",
        "    labels.append(corpus[x][1])# YOUR CODE HERE)\n",
        "\n",
        "\n",
        "tokenizer = Tokenizer()\n",
        "tokenizer.fit_on_texts(sentences)# YOUR CODE HERE)\n",
        "\n",
        "word_index = tokenizer.word_index\n",
        "vocab_size=len(word_index)# YOUR CODE HERE)\n",
        "\n",
        "sequences = tokenizer.texts_to_sequences(sentences)# YOUR CODE HERE)\n",
        "padded = pad_sequences(sequences, maxlen=max_length, padding=padding_type, truncating=trunc_type)# YOUR CODE HERE)\n",
        "\n",
        "split = int(test_portion * training_size)\n",
        "\n",
        "test_sequences = padded[0:split]# YOUR CODE HERE)\n",
        "training_sequences = padded[split:training_size]# YOUR CODE HERE)\n",
        "test_labels = labels[0:split]# YOUR CODE HERE)\n",
        "training_labels = labels[split:training_size]# YOUR CODE HERE)"
      ],
      "execution_count": 4,
      "outputs": []
    },
    {
      "cell_type": "code",
      "metadata": {
        "id": "gIrtRem1En3N",
        "colab": {
          "base_uri": "https://localhost:8080/"
        },
        "outputId": "0e50645d-7161-4146-de12-dd75c93aeb22"
      },
      "source": [
        "print(vocab_size)\n",
        "print(word_index['i'])\n",
        "# Expected Output\n",
        "# 138856\n",
        "# 1"
      ],
      "execution_count": 5,
      "outputs": [
        {
          "output_type": "stream",
          "name": "stdout",
          "text": [
            "138381\n",
            "1\n"
          ]
        }
      ]
    },
    {
      "cell_type": "code",
      "metadata": {
        "id": "C1zdgJkusRh0",
        "colab": {
          "base_uri": "https://localhost:8080/"
        },
        "outputId": "c4198d6d-e6f5-4ce9-e10f-279a0ed5c4cd"
      },
      "source": [
        "# Note this is the 100 dimension version of GloVe from Stanford\n",
        "\n",
        "# glove.6B.100d.txt\n",
        "!gdown --id 1W5vZy2etitAblLdFn8_DxnsQKzfFJ98g\n",
        "\n",
        "embeddings_index = {};\n",
        "with open('./glove.6B.100d.txt') as f:\n",
        "    for line in f:\n",
        "        values = line.split();\n",
        "        word = values[0];\n",
        "        coefs = np.asarray(values[1:], dtype='float32');\n",
        "        embeddings_index[word] = coefs;\n",
        "\n",
        "embeddings_matrix = np.zeros((vocab_size+1, embedding_dim));\n",
        "for word, i in word_index.items():\n",
        "    embedding_vector = embeddings_index.get(word);\n",
        "    if embedding_vector is not None:\n",
        "        embeddings_matrix[i] = embedding_vector;"
      ],
      "execution_count": 6,
      "outputs": [
        {
          "output_type": "stream",
          "name": "stdout",
          "text": [
            "Downloading...\n",
            "From: https://drive.google.com/uc?id=1W5vZy2etitAblLdFn8_DxnsQKzfFJ98g\n",
            "To: /content/glove.6B.100d.txt\n",
            "347MB [00:02, 129MB/s]\n"
          ]
        }
      ]
    },
    {
      "cell_type": "code",
      "metadata": {
        "id": "71NLk_lpFLNt",
        "colab": {
          "base_uri": "https://localhost:8080/"
        },
        "outputId": "1bc2491e-0354-4414-cd82-a9a65970a2f4"
      },
      "source": [
        "print(len(embeddings_matrix))\n",
        "# Expected Output\n",
        "# 138857"
      ],
      "execution_count": 8,
      "outputs": [
        {
          "output_type": "stream",
          "name": "stdout",
          "text": [
            "138382\n"
          ]
        }
      ]
    },
    {
      "cell_type": "code",
      "metadata": {
        "id": "iKKvbuEBOGFz",
        "colab": {
          "base_uri": "https://localhost:8080/"
        },
        "outputId": "74e1e635-d623-4f6f-ba4b-215b0794c46d"
      },
      "source": [
        "model = tf.keras.Sequential([\n",
        "    # YOUR CODE HERE\n",
        "    tf.keras.layers.Embedding(vocab_size+1, embedding_dim, input_length=max_length, weights=[embeddings_matrix], trainable=False),\n",
        "    tf.keras.layers.Dropout(0.2),\n",
        "    tf.keras.layers.Conv1D(64, 5, activation='relu'),\n",
        "    tf.keras.layers.MaxPooling1D(pool_size=4),\n",
        "    tf.keras.layers.LSTM(64),\n",
        "    tf.keras.layers.Dense(1, activation='sigmoid')\n",
        "])\n",
        "model.compile(loss='binary_crossentropy',optimizer='adam',metrics=['accuracy'])# YOUR CODE HERE)\n",
        "model.summary()\n",
        "\n",
        "num_epochs = 50\n",
        "\n",
        "training_padded = np.array(training_sequences)\n",
        "training_labels = np.array(training_labels)\n",
        "testing_padded = np.array(test_sequences)\n",
        "testing_labels = np.array(test_labels)\n",
        "\n",
        "history = model.fit(training_padded, training_labels, epochs=num_epochs, validation_data=(testing_padded, testing_labels), verbose=2)\n",
        "\n",
        "print(\"Training Complete\")"
      ],
      "execution_count": 7,
      "outputs": [
        {
          "output_type": "stream",
          "name": "stdout",
          "text": [
            "Model: \"sequential\"\n",
            "_________________________________________________________________\n",
            "Layer (type)                 Output Shape              Param #   \n",
            "=================================================================\n",
            "embedding (Embedding)        (None, 16, 100)           13838200  \n",
            "_________________________________________________________________\n",
            "dropout (Dropout)            (None, 16, 100)           0         \n",
            "_________________________________________________________________\n",
            "conv1d (Conv1D)              (None, 12, 64)            32064     \n",
            "_________________________________________________________________\n",
            "max_pooling1d (MaxPooling1D) (None, 3, 64)             0         \n",
            "_________________________________________________________________\n",
            "lstm (LSTM)                  (None, 64)                33024     \n",
            "_________________________________________________________________\n",
            "dense (Dense)                (None, 1)                 65        \n",
            "=================================================================\n",
            "Total params: 13,903,353\n",
            "Trainable params: 65,153\n",
            "Non-trainable params: 13,838,200\n",
            "_________________________________________________________________\n",
            "Epoch 1/50\n",
            "4500/4500 - 51s - loss: 0.5682 - accuracy: 0.6980 - val_loss: 0.5264 - val_accuracy: 0.7328\n",
            "Epoch 2/50\n",
            "4500/4500 - 17s - loss: 0.5269 - accuracy: 0.7308 - val_loss: 0.5097 - val_accuracy: 0.7431\n",
            "Epoch 3/50\n",
            "4500/4500 - 17s - loss: 0.5089 - accuracy: 0.7449 - val_loss: 0.5046 - val_accuracy: 0.7510\n",
            "Epoch 4/50\n",
            "4500/4500 - 16s - loss: 0.4996 - accuracy: 0.7514 - val_loss: 0.4991 - val_accuracy: 0.7556\n",
            "Epoch 5/50\n",
            "4500/4500 - 17s - loss: 0.4904 - accuracy: 0.7573 - val_loss: 0.4966 - val_accuracy: 0.7579\n",
            "Epoch 6/50\n",
            "4500/4500 - 17s - loss: 0.4843 - accuracy: 0.7619 - val_loss: 0.4981 - val_accuracy: 0.7554\n",
            "Epoch 7/50\n",
            "4500/4500 - 17s - loss: 0.4769 - accuracy: 0.7667 - val_loss: 0.5016 - val_accuracy: 0.7494\n",
            "Epoch 8/50\n",
            "4500/4500 - 17s - loss: 0.4732 - accuracy: 0.7698 - val_loss: 0.4964 - val_accuracy: 0.7538\n",
            "Epoch 9/50\n",
            "4500/4500 - 17s - loss: 0.4676 - accuracy: 0.7728 - val_loss: 0.5022 - val_accuracy: 0.7582\n",
            "Epoch 10/50\n",
            "4500/4500 - 17s - loss: 0.4641 - accuracy: 0.7749 - val_loss: 0.5031 - val_accuracy: 0.7517\n",
            "Epoch 11/50\n",
            "4500/4500 - 17s - loss: 0.4600 - accuracy: 0.7769 - val_loss: 0.5001 - val_accuracy: 0.7544\n",
            "Epoch 12/50\n",
            "4500/4500 - 17s - loss: 0.4575 - accuracy: 0.7788 - val_loss: 0.5018 - val_accuracy: 0.7556\n",
            "Epoch 13/50\n",
            "4500/4500 - 17s - loss: 0.4558 - accuracy: 0.7797 - val_loss: 0.5048 - val_accuracy: 0.7566\n",
            "Epoch 14/50\n",
            "4500/4500 - 17s - loss: 0.4530 - accuracy: 0.7818 - val_loss: 0.4994 - val_accuracy: 0.7564\n",
            "Epoch 15/50\n",
            "4500/4500 - 17s - loss: 0.4505 - accuracy: 0.7827 - val_loss: 0.5022 - val_accuracy: 0.7556\n",
            "Epoch 16/50\n",
            "4500/4500 - 17s - loss: 0.4479 - accuracy: 0.7848 - val_loss: 0.5022 - val_accuracy: 0.7545\n",
            "Epoch 17/50\n",
            "4500/4500 - 17s - loss: 0.4461 - accuracy: 0.7861 - val_loss: 0.5074 - val_accuracy: 0.7548\n",
            "Epoch 18/50\n",
            "4500/4500 - 17s - loss: 0.4450 - accuracy: 0.7871 - val_loss: 0.5153 - val_accuracy: 0.7505\n",
            "Epoch 19/50\n",
            "4500/4500 - 17s - loss: 0.4435 - accuracy: 0.7874 - val_loss: 0.5069 - val_accuracy: 0.7539\n",
            "Epoch 20/50\n",
            "4500/4500 - 17s - loss: 0.4418 - accuracy: 0.7885 - val_loss: 0.5058 - val_accuracy: 0.7545\n",
            "Epoch 21/50\n",
            "4500/4500 - 17s - loss: 0.4416 - accuracy: 0.7878 - val_loss: 0.5090 - val_accuracy: 0.7539\n",
            "Epoch 22/50\n",
            "4500/4500 - 17s - loss: 0.4401 - accuracy: 0.7884 - val_loss: 0.5130 - val_accuracy: 0.7542\n",
            "Epoch 23/50\n",
            "4500/4500 - 17s - loss: 0.4391 - accuracy: 0.7901 - val_loss: 0.5115 - val_accuracy: 0.7558\n",
            "Epoch 24/50\n",
            "4500/4500 - 17s - loss: 0.4367 - accuracy: 0.7910 - val_loss: 0.5096 - val_accuracy: 0.7546\n",
            "Epoch 25/50\n",
            "4500/4500 - 17s - loss: 0.4385 - accuracy: 0.7895 - val_loss: 0.5090 - val_accuracy: 0.7545\n",
            "Epoch 26/50\n",
            "4500/4500 - 17s - loss: 0.4374 - accuracy: 0.7910 - val_loss: 0.5102 - val_accuracy: 0.7524\n",
            "Epoch 27/50\n",
            "4500/4500 - 17s - loss: 0.4364 - accuracy: 0.7905 - val_loss: 0.5174 - val_accuracy: 0.7523\n",
            "Epoch 28/50\n",
            "4500/4500 - 17s - loss: 0.4353 - accuracy: 0.7923 - val_loss: 0.5174 - val_accuracy: 0.7551\n",
            "Epoch 29/50\n",
            "4500/4500 - 17s - loss: 0.4335 - accuracy: 0.7927 - val_loss: 0.5140 - val_accuracy: 0.7510\n",
            "Epoch 30/50\n",
            "4500/4500 - 17s - loss: 0.4323 - accuracy: 0.7936 - val_loss: 0.5140 - val_accuracy: 0.7548\n",
            "Epoch 31/50\n",
            "4500/4500 - 17s - loss: 0.4320 - accuracy: 0.7942 - val_loss: 0.5175 - val_accuracy: 0.7530\n",
            "Epoch 32/50\n",
            "4500/4500 - 17s - loss: 0.4306 - accuracy: 0.7948 - val_loss: 0.5182 - val_accuracy: 0.7535\n",
            "Epoch 33/50\n",
            "4500/4500 - 17s - loss: 0.4308 - accuracy: 0.7944 - val_loss: 0.5168 - val_accuracy: 0.7503\n",
            "Epoch 34/50\n",
            "4500/4500 - 17s - loss: 0.4304 - accuracy: 0.7947 - val_loss: 0.5203 - val_accuracy: 0.7501\n",
            "Epoch 35/50\n",
            "4500/4500 - 17s - loss: 0.4318 - accuracy: 0.7943 - val_loss: 0.5165 - val_accuracy: 0.7501\n",
            "Epoch 36/50\n",
            "4500/4500 - 17s - loss: 0.4309 - accuracy: 0.7940 - val_loss: 0.5119 - val_accuracy: 0.7541\n",
            "Epoch 37/50\n",
            "4500/4500 - 17s - loss: 0.4283 - accuracy: 0.7966 - val_loss: 0.5150 - val_accuracy: 0.7501\n",
            "Epoch 38/50\n",
            "4500/4500 - 17s - loss: 0.4276 - accuracy: 0.7966 - val_loss: 0.5176 - val_accuracy: 0.7527\n",
            "Epoch 39/50\n",
            "4500/4500 - 17s - loss: 0.4283 - accuracy: 0.7966 - val_loss: 0.5194 - val_accuracy: 0.7461\n",
            "Epoch 40/50\n",
            "4500/4500 - 17s - loss: 0.4276 - accuracy: 0.7977 - val_loss: 0.5209 - val_accuracy: 0.7498\n",
            "Epoch 41/50\n",
            "4500/4500 - 17s - loss: 0.4276 - accuracy: 0.7971 - val_loss: 0.5231 - val_accuracy: 0.7475\n",
            "Epoch 42/50\n",
            "4500/4500 - 16s - loss: 0.4264 - accuracy: 0.7988 - val_loss: 0.5172 - val_accuracy: 0.7509\n",
            "Epoch 43/50\n",
            "4500/4500 - 17s - loss: 0.4289 - accuracy: 0.7961 - val_loss: 0.5163 - val_accuracy: 0.7484\n",
            "Epoch 44/50\n",
            "4500/4500 - 17s - loss: 0.4276 - accuracy: 0.7977 - val_loss: 0.5195 - val_accuracy: 0.7501\n",
            "Epoch 45/50\n",
            "4500/4500 - 17s - loss: 0.4267 - accuracy: 0.7985 - val_loss: 0.5154 - val_accuracy: 0.7494\n",
            "Epoch 46/50\n",
            "4500/4500 - 17s - loss: 0.4270 - accuracy: 0.7975 - val_loss: 0.5162 - val_accuracy: 0.7509\n",
            "Epoch 47/50\n",
            "4500/4500 - 17s - loss: 0.4257 - accuracy: 0.7974 - val_loss: 0.5253 - val_accuracy: 0.7479\n",
            "Epoch 48/50\n",
            "4500/4500 - 17s - loss: 0.4266 - accuracy: 0.7971 - val_loss: 0.5222 - val_accuracy: 0.7495\n",
            "Epoch 49/50\n",
            "4500/4500 - 17s - loss: 0.4259 - accuracy: 0.7978 - val_loss: 0.5216 - val_accuracy: 0.7479\n",
            "Epoch 50/50\n",
            "4500/4500 - 17s - loss: 0.4268 - accuracy: 0.7973 - val_loss: 0.5256 - val_accuracy: 0.7473\n",
            "Training Complete\n"
          ]
        }
      ]
    },
    {
      "cell_type": "code",
      "metadata": {
        "id": "qxju4ItJKO8F",
        "colab": {
          "base_uri": "https://localhost:8080/",
          "height": 608
        },
        "outputId": "d54cf43f-868f-452d-d587-a34e9c8973e1"
      },
      "source": [
        "import matplotlib.image  as mpimg\n",
        "import matplotlib.pyplot as plt\n",
        "\n",
        "#-----------------------------------------------------------\n",
        "# Retrieve a list of list results on training and test data\n",
        "# sets for each training epoch\n",
        "#-----------------------------------------------------------\n",
        "acc=history.history['accuracy']\n",
        "val_acc=history.history['val_accuracy']\n",
        "loss=history.history['loss']\n",
        "val_loss=history.history['val_loss']\n",
        "\n",
        "epochs=range(len(acc)) # Get number of epochs\n",
        "\n",
        "#------------------------------------------------\n",
        "# Plot training and validation accuracy per epoch\n",
        "#------------------------------------------------\n",
        "plt.plot(epochs, acc, 'r')\n",
        "plt.plot(epochs, val_acc, 'b')\n",
        "plt.title('Training and validation accuracy')\n",
        "plt.xlabel(\"Epochs\")\n",
        "plt.ylabel(\"Accuracy\")\n",
        "plt.legend([\"Accuracy\", \"Validation Accuracy\"])\n",
        "\n",
        "plt.figure()\n",
        "\n",
        "#------------------------------------------------\n",
        "# Plot training and validation loss per epoch\n",
        "#------------------------------------------------\n",
        "plt.plot(epochs, loss, 'r')\n",
        "plt.plot(epochs, val_loss, 'b')\n",
        "plt.title('Training and validation loss')\n",
        "plt.xlabel(\"Epochs\")\n",
        "plt.ylabel(\"Loss\")\n",
        "plt.legend([\"Loss\", \"Validation Loss\"])\n",
        "\n",
        "plt.figure()\n",
        "\n",
        "\n",
        "# Expected Output\n",
        "# A chart where the validation loss does not increase sharply!"
      ],
      "execution_count": 9,
      "outputs": [
        {
          "data": {
            "text/plain": [
              "<Figure size 432x288 with 0 Axes>"
            ]
          },
          "execution_count": null,
          "metadata": {},
          "output_type": "execute_result"
        },
        {
          "data": {
            "image/png": "[encoded data removed]",
            "text/plain": [
              "<Figure size 432x288 with 1 Axes>"
            ]
          },
          "metadata": {},
          "output_type": "display_data"
        },
        {
          "data": {
            "image/png": "[encoded data removed]",
            "text/plain": [
              "<Figure size 432x288 with 1 Axes>"
            ]
          },
          "metadata": {},
          "output_type": "display_data"
        },
        {
          "data": {
            "text/plain": [
              "<Figure size 432x288 with 0 Axes>"
            ]
          },
          "metadata": {},
          "output_type": "display_data"
        }
      ]
    }
  ]
}