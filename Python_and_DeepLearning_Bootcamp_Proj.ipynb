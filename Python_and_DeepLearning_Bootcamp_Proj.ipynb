{
  "cells": [
    {
      "cell_type": "markdown",
      "metadata": {
        "id": "view-in-github",
        "colab_type": "text"
      },
      "source": [
        "<a href=\"https://colab.research.google.com/github/PandiRaja18/Deep-Learning/blob/main/Python_and_DeepLearning_Bootcamp_Proj.ipynb\" target=\"_parent\"><img src=\"https://colab.research.google.com/assets/colab-badge.svg\" alt=\"Open In Colab\"/></a>"
      ]
    },
    {
      "cell_type": "code",
      "execution_count": null,
      "metadata": {
        "execution": {
          "iopub.execute_input": "2022-01-26T05:11:32.261134Z",
          "iopub.status.busy": "2022-01-26T05:11:32.260310Z",
          "iopub.status.idle": "2022-01-26T05:11:34.742110Z",
          "shell.execute_reply": "2022-01-26T05:11:34.741254Z"
        },
        "id": "iAve6DCL4JH4"
      },
      "outputs": [],
      "source": [
        "import tensorflow as tf\n",
        "\n",
        "from tensorflow.keras import datasets, layers, models\n",
        "import matplotlib.pyplot as plt"
      ]
    },
    {
      "cell_type": "code",
      "execution_count": null,
      "metadata": {
        "execution": {
          "iopub.execute_input": "2022-01-26T05:11:34.747153Z",
          "iopub.status.busy": "2022-01-26T05:11:34.746577Z",
          "iopub.status.idle": "2022-01-26T05:11:48.763399Z",
          "shell.execute_reply": "2022-01-26T05:11:48.763818Z"
        },
        "id": "JWoEqyMuXFF4"
      },
      "outputs": [],
      "source": [
        "(train_images, train_labels), (test_images, test_labels) = datasets.cifar10.load_data()\n",
        "\n",
        "# Normalize pixel values to be between 0 and 1\n",
        "train_images, test_images = train_images / 255.0, test_images / 255.0"
      ]
    },
    {
      "cell_type": "markdown",
      "metadata": {
        "id": "Oewp-wYg31t9"
      },
      "source": [
        "**CNN Model**"
      ]
    },
    {
      "cell_type": "code",
      "execution_count": null,
      "metadata": {
        "execution": {
          "iopub.execute_input": "2022-01-26T05:11:49.708455Z",
          "iopub.status.busy": "2022-01-26T05:11:49.706738Z",
          "iopub.status.idle": "2022-01-26T05:11:51.276934Z",
          "shell.execute_reply": "2022-01-26T05:11:51.277363Z"
        },
        "id": "L9YmGQBQPrdn"
      },
      "outputs": [],
      "source": [
        "model = models.Sequential()\n",
        "model.add(layers.Conv2D(32, (3, 3), activation='relu', input_shape=(32, 32, 3)))\n",
        "model.add(layers.MaxPooling2D((2, 2)))\n",
        "model.add(layers.Conv2D(64, (3, 3), activation='relu'))\n",
        "model.add(layers.MaxPooling2D((2, 2)))\n",
        "model.add(layers.Dropout(0.2))\n",
        "model.add(layers.BatchNormalization())\n",
        "model.add(layers.Conv2D(64, (3, 3), activation='relu'))\n",
        "model.add(layers.Dropout(0.2))\n",
        "model.add(layers.BatchNormalization())"
      ]
    },
    {
      "cell_type": "code",
      "execution_count": null,
      "metadata": {
        "execution": {
          "iopub.execute_input": "2022-01-26T05:11:51.281983Z",
          "iopub.status.busy": "2022-01-26T05:11:51.281352Z",
          "iopub.status.idle": "2022-01-26T05:11:51.297645Z",
          "shell.execute_reply": "2022-01-26T05:11:51.295152Z"
        },
        "id": "8-C4XBg4UTJy",
        "colab": {
          "base_uri": "https://localhost:8080/"
        },
        "outputId": "1c7078d4-2a30-4177-d4e9-513e3e50d06d"
      },
      "outputs": [
        {
          "output_type": "stream",
          "name": "stdout",
          "text": [
            "Model: \"sequential_4\"\n",
            "_________________________________________________________________\n",
            " Layer (type)                Output Shape              Param #   \n",
            "=================================================================\n",
            " conv2d_12 (Conv2D)          (None, 30, 30, 32)        896       \n",
            "                                                                 \n",
            " max_pooling2d_8 (MaxPooling  (None, 15, 15, 32)       0         \n",
            " 2D)                                                             \n",
            "                                                                 \n",
            " conv2d_13 (Conv2D)          (None, 13, 13, 64)        18496     \n",
            "                                                                 \n",
            " max_pooling2d_9 (MaxPooling  (None, 6, 6, 64)         0         \n",
            " 2D)                                                             \n",
            "                                                                 \n",
            " dropout_3 (Dropout)         (None, 6, 6, 64)          0         \n",
            "                                                                 \n",
            " batch_normalization_7 (Batc  (None, 6, 6, 64)         256       \n",
            " hNormalization)                                                 \n",
            "                                                                 \n",
            " conv2d_14 (Conv2D)          (None, 4, 4, 64)          36928     \n",
            "                                                                 \n",
            " dropout_4 (Dropout)         (None, 4, 4, 64)          0         \n",
            "                                                                 \n",
            " batch_normalization_8 (Batc  (None, 4, 4, 64)         256       \n",
            " hNormalization)                                                 \n",
            "                                                                 \n",
            "=================================================================\n",
            "Total params: 56,832\n",
            "Trainable params: 56,576\n",
            "Non-trainable params: 256\n",
            "_________________________________________________________________\n"
          ]
        }
      ],
      "source": [
        "model.summary()"
      ]
    },
    {
      "cell_type": "code",
      "execution_count": null,
      "metadata": {
        "execution": {
          "iopub.execute_input": "2022-01-26T05:11:51.302788Z",
          "iopub.status.busy": "2022-01-26T05:11:51.302212Z",
          "iopub.status.idle": "2022-01-26T05:11:51.319681Z",
          "shell.execute_reply": "2022-01-26T05:11:51.320042Z"
        },
        "id": "mRs95d6LUVEi"
      },
      "outputs": [],
      "source": [
        "model.add(layers.Flatten())\n",
        "model.add(layers.Dense(64, activation='relu',kernel_regularizer='l2'))\n",
        "model.add(layers.Dropout(0.2))\n",
        "model.add(layers.Dense(10,kernel_regularizer='l2'))"
      ]
    },
    {
      "cell_type": "code",
      "execution_count": null,
      "metadata": {
        "execution": {
          "iopub.execute_input": "2022-01-26T05:11:51.324375Z",
          "iopub.status.busy": "2022-01-26T05:11:51.323638Z",
          "iopub.status.idle": "2022-01-26T05:11:51.347165Z",
          "shell.execute_reply": "2022-01-26T05:11:51.341496Z"
        },
        "id": "8Yu_m-TZUWGX",
        "colab": {
          "base_uri": "https://localhost:8080/"
        },
        "outputId": "46864bce-0053-4b23-ef5d-43408432eb50"
      },
      "outputs": [
        {
          "output_type": "stream",
          "name": "stdout",
          "text": [
            "Model: \"sequential_4\"\n",
            "_________________________________________________________________\n",
            " Layer (type)                Output Shape              Param #   \n",
            "=================================================================\n",
            " conv2d_12 (Conv2D)          (None, 30, 30, 32)        896       \n",
            "                                                                 \n",
            " max_pooling2d_8 (MaxPooling  (None, 15, 15, 32)       0         \n",
            " 2D)                                                             \n",
            "                                                                 \n",
            " conv2d_13 (Conv2D)          (None, 13, 13, 64)        18496     \n",
            "                                                                 \n",
            " max_pooling2d_9 (MaxPooling  (None, 6, 6, 64)         0         \n",
            " 2D)                                                             \n",
            "                                                                 \n",
            " dropout_3 (Dropout)         (None, 6, 6, 64)          0         \n",
            "                                                                 \n",
            " batch_normalization_7 (Batc  (None, 6, 6, 64)         256       \n",
            " hNormalization)                                                 \n",
            "                                                                 \n",
            " conv2d_14 (Conv2D)          (None, 4, 4, 64)          36928     \n",
            "                                                                 \n",
            " dropout_4 (Dropout)         (None, 4, 4, 64)          0         \n",
            "                                                                 \n",
            " batch_normalization_8 (Batc  (None, 4, 4, 64)         256       \n",
            " hNormalization)                                                 \n",
            "                                                                 \n",
            " flatten_6 (Flatten)         (None, 1024)              0         \n",
            "                                                                 \n",
            " dense_10 (Dense)            (None, 64)                65600     \n",
            "                                                                 \n",
            " dropout_5 (Dropout)         (None, 64)                0         \n",
            "                                                                 \n",
            " dense_11 (Dense)            (None, 10)                650       \n",
            "                                                                 \n",
            "=================================================================\n",
            "Total params: 123,082\n",
            "Trainable params: 122,826\n",
            "Non-trainable params: 256\n",
            "_________________________________________________________________\n"
          ]
        }
      ],
      "source": [
        "model.summary()"
      ]
    },
    {
      "cell_type": "code",
      "execution_count": null,
      "metadata": {
        "execution": {
          "iopub.execute_input": "2022-01-26T05:11:51.354877Z",
          "iopub.status.busy": "2022-01-26T05:11:51.351479Z",
          "iopub.status.idle": "2022-01-26T05:12:53.567336Z",
          "shell.execute_reply": "2022-01-26T05:12:53.566859Z"
        },
        "id": "MdDzI75PUXrG",
        "colab": {
          "base_uri": "https://localhost:8080/"
        },
        "outputId": "8a82b426-3159-4143-9e7b-6285046f16c8"
      },
      "outputs": [
        {
          "output_type": "stream",
          "name": "stdout",
          "text": [
            "Epoch 1/20\n",
            "1563/1563 [==============================] - 15s 9ms/step - loss: 2.0457 - accuracy: 0.4372 - val_loss: 1.6742 - val_accuracy: 0.4671\n",
            "Epoch 2/20\n",
            "1563/1563 [==============================] - 14s 9ms/step - loss: 1.3936 - accuracy: 0.5723 - val_loss: 1.5354 - val_accuracy: 0.5103\n",
            "Epoch 3/20\n",
            "1563/1563 [==============================] - 14s 9ms/step - loss: 1.2831 - accuracy: 0.6176 - val_loss: 1.2271 - val_accuracy: 0.6332\n",
            "Epoch 4/20\n",
            "1563/1563 [==============================] - 14s 9ms/step - loss: 1.2209 - accuracy: 0.6432 - val_loss: 1.2137 - val_accuracy: 0.6415\n",
            "Epoch 5/20\n",
            "1563/1563 [==============================] - 14s 9ms/step - loss: 1.1869 - accuracy: 0.6580 - val_loss: 1.1452 - val_accuracy: 0.6693\n",
            "Epoch 6/20\n",
            "1563/1563 [==============================] - 14s 9ms/step - loss: 1.1491 - accuracy: 0.6693 - val_loss: 1.5886 - val_accuracy: 0.5604\n",
            "Epoch 7/20\n",
            "1563/1563 [==============================] - 14s 9ms/step - loss: 1.1215 - accuracy: 0.6833 - val_loss: 1.2139 - val_accuracy: 0.6397\n",
            "Epoch 8/20\n",
            "1563/1563 [==============================] - 14s 9ms/step - loss: 1.1074 - accuracy: 0.6890 - val_loss: 1.1250 - val_accuracy: 0.6751\n",
            "Epoch 9/20\n",
            "1563/1563 [==============================] - 14s 9ms/step - loss: 1.0866 - accuracy: 0.6949 - val_loss: 1.0649 - val_accuracy: 0.7087\n",
            "Epoch 10/20\n",
            "1563/1563 [==============================] - 14s 9ms/step - loss: 1.0729 - accuracy: 0.7018 - val_loss: 1.0910 - val_accuracy: 0.6966\n",
            "Epoch 11/20\n",
            "1563/1563 [==============================] - 14s 9ms/step - loss: 1.0562 - accuracy: 0.7068 - val_loss: 1.0200 - val_accuracy: 0.7136\n",
            "Epoch 12/20\n",
            "1563/1563 [==============================] - 14s 9ms/step - loss: 1.0417 - accuracy: 0.7112 - val_loss: 1.0377 - val_accuracy: 0.7120\n",
            "Epoch 13/20\n",
            "1563/1563 [==============================] - 14s 9ms/step - loss: 1.0342 - accuracy: 0.7159 - val_loss: 1.0187 - val_accuracy: 0.7145\n",
            "Epoch 14/20\n",
            "1563/1563 [==============================] - 14s 9ms/step - loss: 1.0251 - accuracy: 0.7159 - val_loss: 1.0392 - val_accuracy: 0.7109\n",
            "Epoch 15/20\n",
            "1563/1563 [==============================] - 14s 9ms/step - loss: 1.0153 - accuracy: 0.7225 - val_loss: 1.0706 - val_accuracy: 0.7027\n",
            "Epoch 16/20\n",
            "1563/1563 [==============================] - 14s 9ms/step - loss: 1.0022 - accuracy: 0.7275 - val_loss: 0.9877 - val_accuracy: 0.7284\n",
            "Epoch 17/20\n",
            "1563/1563 [==============================] - 14s 9ms/step - loss: 0.9970 - accuracy: 0.7286 - val_loss: 0.9795 - val_accuracy: 0.7319\n",
            "Epoch 18/20\n",
            "1563/1563 [==============================] - 14s 9ms/step - loss: 0.9986 - accuracy: 0.7273 - val_loss: 0.9737 - val_accuracy: 0.7333\n",
            "Epoch 19/20\n",
            "1563/1563 [==============================] - 14s 9ms/step - loss: 0.9893 - accuracy: 0.7331 - val_loss: 0.9692 - val_accuracy: 0.7378\n",
            "Epoch 20/20\n",
            "1563/1563 [==============================] - 14s 9ms/step - loss: 0.9820 - accuracy: 0.7346 - val_loss: 0.9579 - val_accuracy: 0.7404\n"
          ]
        }
      ],
      "source": [
        "model.compile(optimizer='adam',\n",
        "              loss=tf.keras.losses.SparseCategoricalCrossentropy(from_logits=True),\n",
        "              metrics=['accuracy'])\n",
        "\n",
        "history = model.fit(train_images, train_labels, epochs=20, \n",
        "                    validation_data=(test_images, test_labels))"
      ]
    },
    {
      "cell_type": "code",
      "execution_count": null,
      "metadata": {
        "execution": {
          "iopub.execute_input": "2022-01-26T05:12:53.592360Z",
          "iopub.status.busy": "2022-01-26T05:12:53.591680Z",
          "iopub.status.idle": "2022-01-26T05:12:54.645588Z",
          "shell.execute_reply": "2022-01-26T05:12:54.645130Z"
        },
        "id": "gtyDF0MKUcM7",
        "colab": {
          "base_uri": "https://localhost:8080/",
          "height": 300
        },
        "outputId": "d1531cf7-e9f8-4f5b-c372-823cb198f8bd"
      },
      "outputs": [
        {
          "output_type": "stream",
          "name": "stdout",
          "text": [
            "313/313 - 1s - loss: 0.9579 - accuracy: 0.7404 - 1s/epoch - 4ms/step\n"
          ]
        },
        {
          "output_type": "display_data",
          "data": {
            "image/png": "[encoded data removed]",
            "text/plain": [
              "<Figure size 432x288 with 1 Axes>"
            ]
          },
          "metadata": {
            "needs_background": "light"
          }
        }
      ],
      "source": [
        "plt.plot(history.history['accuracy'], label='accuracy')\n",
        "plt.plot(history.history['val_accuracy'], label = 'val_accuracy')\n",
        "plt.xlabel('Epoch')\n",
        "plt.ylabel('Accuracy')\n",
        "plt.ylim([0.5, 1])\n",
        "plt.legend(loc='lower right')\n",
        "\n",
        "test_loss, test_acc = model.evaluate(test_images,  test_labels, verbose=2)"
      ]
    },
    {
      "cell_type": "code",
      "source": [
        "Pred=model.predict(train_images)\n",
        "print(Pred)"
      ],
      "metadata": {
        "colab": {
          "base_uri": "https://localhost:8080/"
        },
        "id": "zvtHLIUiyNZs",
        "outputId": "560f95aa-b19f-419f-ac6b-d6e5156d8066"
      },
      "execution_count": null,
      "outputs": [
        {
          "output_type": "stream",
          "name": "stdout",
          "text": [
            "[[-2.4964306  -3.2156613  -0.1242882  ... -0.6150246  -2.6454268\n",
            "  -2.5003355 ]\n",
            " [-0.06445166  0.73849654 -2.2655919  ...  0.43227485  0.82309866\n",
            "   7.8763094 ]\n",
            " [ 0.48449895  0.65891314 -1.0537192  ...  0.48920476 -0.10094571\n",
            "   4.4723554 ]\n",
            " ...\n",
            " [ 0.8216113   0.30781195 -1.3377272  ...  0.5492686   1.4528202\n",
            "   5.434195  ]\n",
            " [ 1.2739931   5.554679   -2.8819308  ... -2.486443    4.435038\n",
            "   4.8647075 ]\n",
            " [ 1.1084236   2.989743   -1.1991245  ... -1.0516638   1.6022505\n",
            "   1.8568312 ]]\n"
          ]
        }
      ]
    },
    {
      "cell_type": "code",
      "execution_count": null,
      "metadata": {
        "execution": {
          "iopub.execute_input": "2022-01-26T05:12:54.649570Z",
          "iopub.status.busy": "2022-01-26T05:12:54.649014Z",
          "iopub.status.idle": "2022-01-26T05:12:54.651075Z",
          "shell.execute_reply": "2022-01-26T05:12:54.651428Z"
        },
        "id": "0LvwaKhtUdOo",
        "colab": {
          "base_uri": "https://localhost:8080/"
        },
        "outputId": "c95eb368-c567-464c-9962-7ef8aa0ac9ac"
      },
      "outputs": [
        {
          "output_type": "stream",
          "name": "stdout",
          "text": [
            "Test Loss : 0.9579065442085266 and Test accuracy :0.7404000163078308\n"
          ]
        }
      ],
      "source": [
        "print(f\"Test Loss : {test_loss} and Test accuracy :{test_acc}\")"
      ]
    },
    {
      "cell_type": "code",
      "source": [
        ""
      ],
      "metadata": {
        "id": "eTcK8He4yeRG"
      },
      "execution_count": null,
      "outputs": []
    }
  ],
  "metadata": {
    "accelerator": "GPU",
    "colab": {
      "collapsed_sections": [],
      "name": "Python and DeepLearning Bootcamp_Proj.ipynb",
      "toc_visible": true,
      "provenance": [],
      "include_colab_link": true
    },
    "kernelspec": {
      "display_name": "Python 3",
      "name": "python3"
    },
    "language_info": {
      "codemirror_mode": {
        "name": "ipython",
        "version": 3
      },
      "file_extension": ".py",
      "mimetype": "text/x-python",
      "name": "python",
      "nbconvert_exporter": "python",
      "pygments_lexer": "ipython3",
      "version": "3.7.5"
    }
  },
  "nbformat": 4,
  "nbformat_minor": 0
}